{
 "cells": [
  {
   "cell_type": "code",
   "execution_count": null,
   "id": "f09e6f60-b080-4ddc-9134-5b69f0c64d35",
   "metadata": {
    "tags": []
   },
   "outputs": [],
   "source": [
    "%load_ext autoreload\n",
    "%autoreload 2\n",
    "%matplotlib widget"
   ]
  },
  {
   "cell_type": "code",
   "execution_count": null,
   "id": "b8ed2903-474a-4edf-a715-e116f2e6806c",
   "metadata": {
    "tags": []
   },
   "outputs": [],
   "source": [
    "import os\n",
    "import sys\n",
    "import pandas as pd\n",
    "import matplotlib.pyplot as plt\n",
    "import ipywidgets\n",
    "import numpy as np\n",
    "\n",
    "parent = os.path.dirname(os.getcwd())\n",
    "sys.path.append(os.path.join(parent, \"drp1_mito_tracker\"))\n",
    "\n",
    "from extract import tif_to_array, czi_to_array\n",
    "from display.dashboard import show\n",
    "from display import colors"
   ]
  },
  {
   "cell_type": "code",
   "execution_count": null,
   "id": "16ace585-5235-48bc-84f1-a0c1811ae084",
   "metadata": {
    "tags": []
   },
   "outputs": [],
   "source": [
    "dir_name = \"TODO\" # SELECT DIRECTORY HERE\n",
    "filename_suffix = \"czi\""
   ]
  },
  {
   "cell_type": "code",
   "execution_count": null,
   "id": "35c15cf5-044d-487c-8b64-32f978cebc74",
   "metadata": {
    "tags": []
   },
   "outputs": [],
   "source": [
    "files = []\n",
    "number = 0\n",
    "for (dirpath, dirnames, filenames) in os.walk(dir_name):\n",
    "    for s in filenames:\n",
    "        if s.endswith('.' + filename_suffix):\n",
    "            files.append(s)\n",
    "            print(number, s)\n",
    "            number += 1\n",
    "    break"
   ]
  },
  {
   "cell_type": "code",
   "execution_count": null,
   "id": "f4774e07-26a4-4fed-aad1-f28808d9056a",
   "metadata": {
    "tags": []
   },
   "outputs": [],
   "source": [
    "selected_file = 0 # SELECT FILE HERE\n",
    "base_filename = files[selected_file][:-4]\n",
    "\n",
    "mtdnatrac_path = os.path.join(dir_name, base_filename + \"_mtdnatrac\" + '.csv')\n",
    "drp1trac_path = os.path.join(dir_name, base_filename + \"_drp1trac\" + '.csv')\n",
    "mitoskel_path = os.path.join(dir_name, base_filename + \"_mitoskel\" + '.csv')\n",
    "\n",
    "mtdna_df = pd.read_csv(mtdnatrac_path)\n",
    "drp1_df = pd.read_csv(drp1trac_path)\n",
    "mito_df = pd.read_csv(mitoskel_path)"
   ]
  },
  {
   "cell_type": "code",
   "execution_count": null,
   "id": "d4b0f39b-1856-41a9-b819-c23c71e2a42a",
   "metadata": {
    "tags": []
   },
   "outputs": [],
   "source": [
    "path = os.path.join(dir_name, base_filename + '.' + filename_suffix)\n",
    "print(path)\n",
    "\n",
    "data = czi_to_array(path)\n",
    "\n",
    "mtdna = data['mtdna']\n",
    "drp1 = data['drp1']\n",
    "mito = data['mito']"
   ]
  },
  {
   "cell_type": "code",
   "execution_count": null,
   "id": "fdcef42c-7be5-46a0-9cd5-1a59df27430a",
   "metadata": {
    "tags": []
   },
   "outputs": [],
   "source": [
    "drp1_cond = ((abs(abs(drp1_df.perp_angle) - 90) < 15) | (drp1_df.d < 3)) & (drp1_df.d - drp1_df.r <= 5)\n",
    "mtdna_cond = ((abs(abs(mtdna_df.perp_angle) - 90) < 15) | (mtdna_df.d < 3)) & (mtdna_df.d - mtdna_df.r <= 5)"
   ]
  },
  {
   "cell_type": "code",
   "execution_count": null,
   "id": "061cc3ff-9654-4f01-9151-96b672f6db53",
   "metadata": {
    "tags": []
   },
   "outputs": [],
   "source": [
    "# Search for IDs in the area of x, y\n",
    "x = slice(1200,1300)\n",
    "y = slice(1450,1550)\n",
    "\n",
    "print(\"DRP1\", drp1_df[(drp1_df.x > x.start) & (drp1_df.x < x.stop) & (drp1_df.y > y.start) & (drp1_df.y < y.stop)].id.unique())\n",
    "print(\"mtDNA\", mtdna_df[(mtdna_df.x > x.start) & (mtdna_df.x < x.stop) & (mtdna_df.y > y.start) & (mtdna_df.y < y.stop)].id.unique())"
   ]
  },
  {
   "cell_type": "code",
   "execution_count": null,
   "id": "4da5b5bb-7e00-4660-bf9d-e272e357beb6",
   "metadata": {
    "tags": []
   },
   "outputs": [],
   "source": [
    "# Find DRP1 and mtDNA ids that are close by\n",
    "\n",
    "max_t = mito_df.t.max()\n",
    "\n",
    "drp1_ids = drp1_df[drp1_cond].drop(drp1_df[drp1_cond].groupby('id').filter(lambda x: len(x) <= max_t).index, inplace=False).id.unique()\n",
    "mtdna_ids = mtdna_df[mtdna_cond].drop(mtdna_df[mtdna_cond].groupby('id').filter(lambda x: len(x) <= max_t).index, inplace=False).id.unique()\n",
    "\n",
    "drp1_full = drp1_df[drp1_df.id.isin(drp1_ids)]\n",
    "mtdna_full = mtdna_df[mtdna_df.id.isin(mtdna_ids)]\n",
    "\n",
    "for did in drp1_ids:\n",
    "    for mid in mtdna_ids:\n",
    "        dis = np.linalg.norm(np.array([drp1_full[drp1_full.id == did].mx.mean(), drp1_full[drp1_full.id == did].my.mean()]) - np.array([mtdna_full[mtdna_full.id == mid].mx.mean(), mtdna_full[mtdna_full.id == mid].my.mean()]))\n",
    "        if (dis < 20):\n",
    "            print(\"DRP1 ID: \", did, \"\\tmtDNA ID: \", mid, \"\\tMean distance [px]: \", dis)"
   ]
  },
  {
   "cell_type": "code",
   "execution_count": null,
   "id": "e6269e44-2cd2-4fe8-a096-39ee08004634",
   "metadata": {
    "tags": []
   },
   "outputs": [],
   "source": [
    "show(mito,\n",
    "     drp1,\n",
    "     mtdna,\n",
    "     mito_df,\n",
    "     drp1_df,\n",
    "     mtdna_df,\n",
    "     mito_cmap=colors.cm_red,\n",
    "     drp1_cmap=colors.cm_green,\n",
    "     mtdna_cmap=colors.cm_yellow,\n",
    "     frame_interval=1.0,\n",
    "     spacing=3.1302974264139308E-02,\n",
    "     unit=\"μm\",\n",
    "     drp1_cond=drp1_cond,\n",
    "     mtdna_cond=mtdna_cond,\n",
    "     window=3,\n",
    "     immediate=True)"
   ]
  }
 ],
 "metadata": {
  "kernelspec": {
   "display_name": "Python 3 (ipykernel)",
   "language": "python",
   "name": "python3"
  },
  "language_info": {
   "codemirror_mode": {
    "name": "ipython",
    "version": 3
   },
   "file_extension": ".py",
   "mimetype": "text/x-python",
   "name": "python",
   "nbconvert_exporter": "python",
   "pygments_lexer": "ipython3",
   "version": "3.11.3"
  }
 },
 "nbformat": 4,
 "nbformat_minor": 5
}
