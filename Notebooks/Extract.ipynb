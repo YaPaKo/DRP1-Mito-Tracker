{
 "cells": [
  {
   "cell_type": "code",
   "execution_count": null,
   "id": "e41832c1-6442-4107-87a4-05d7c8c55db0",
   "metadata": {},
   "outputs": [],
   "source": [
    "%load_ext autoreload\n",
    "%autoreload 2"
   ]
  },
  {
   "cell_type": "code",
   "execution_count": null,
   "id": "57595953-ad3a-446b-b2cd-0e91f85bc147",
   "metadata": {
    "tags": []
   },
   "outputs": [],
   "source": [
    "import os\n",
    "import sys\n",
    "import gc\n",
    "import math\n",
    "import cupy as cp\n",
    "import pandas as pd\n",
    "from time import time\n",
    "\n",
    "import warnings\n",
    "warnings.filterwarnings('ignore')\n",
    "\n",
    "parent = os.path.dirname(os.getcwd())\n",
    "sys.path.append(os.path.join(parent, \"drp1_mito_tracker\"))\n",
    "\n",
    "from CZImage import CZImage\n",
    "from extract import tif_to_array, czi_to_array, add_mito_data\n",
    "from tracking import tracker, calc_threshold_fit\n",
    "from mito_skel import video_skeleton_data, skeleton_as_dataframe # radi, radi_as_dataframe\n",
    "from skimage.filters import threshold_otsu, threshold_li, threshold_isodata"
   ]
  },
  {
   "cell_type": "code",
   "execution_count": null,
   "id": "f8288177-e038-4363-a85f-4290641e3265",
   "metadata": {
    "tags": []
   },
   "outputs": [],
   "source": [
    "dir_name = \"TODO\"\n",
    "filename_suffix = \"czi\""
   ]
  },
  {
   "cell_type": "code",
   "execution_count": null,
   "id": "15fafc61-0aee-4481-8eef-53103ffa4b25",
   "metadata": {
    "tags": []
   },
   "outputs": [],
   "source": [
    "files = []\n",
    "number = 0\n",
    "for (dirpath, dirnames, filenames) in os.walk(dir_name):\n",
    "    for s in filenames:\n",
    "        if s.endswith('.' + filename_suffix):\n",
    "            files.append(s)\n",
    "            print(number, s, round(os.path.getsize(os.path.join(dir_name, s))/1024/1024/1024, 2), \"GB\")\n",
    "            number += 1\n",
    "    break"
   ]
  },
  {
   "cell_type": "code",
   "execution_count": null,
   "id": "4b8509cc-ce7f-47ef-a5e3-2f75128b6609",
   "metadata": {
    "tags": []
   },
   "outputs": [],
   "source": [
    "begin = time()\n",
    "\n",
    "for filename in files:\n",
    "    gc.collect()\n",
    "    filetime = time()\n",
    "    \n",
    "    base_filename = filename[:-4]\n",
    "    \n",
    "    mtdnatrac_path = os.path.join(dir_name, base_filename + \"_mtdnatrac\" + '.csv')\n",
    "    drp1trac_path = os.path.join(dir_name, base_filename + \"_drp1trac\" + '.csv')\n",
    "    mitoskel_path = os.path.join(dir_name, base_filename + \"_mitoskel\" + '.csv')\n",
    "    \n",
    "    # Uncomment to ignore existing DataFrames \n",
    "    if os.path.isfile(mtdnatrac_path) and os.path.isfile(drp1trac_path) and os.path.isfile(mitoskel_path):\n",
    "        print(\"Files exists for\", base_filename)\n",
    "        continue\n",
    "    \n",
    "    print(\"Processing\", base_filename)\n",
    "    \n",
    "    path = os.path.join(dir_name, base_filename + '.' + filename_suffix)\n",
    "\n",
    "    # DRP1 Tracking\n",
    "    # start = time()\n",
    "    # data = czi_to_array(path, channels=['drp1'])\n",
    "    # drp1 = data['drp1']\n",
    "    # print(\"Load DRP1\", time() - start)\n",
    "    \n",
    "    start = time()\n",
    "    data = CZImage(path, channel=CZImage.DRP1)\n",
    "    drp1_df = tracker(data, \n",
    "                      max_distance=15,\n",
    "                      look_back_n_frames=1,\n",
    "                      min_coords=80,#int(len(data) * 0.8), \n",
    "                      maxima_threshold_method=threshold_otsu)\n",
    "    print(\"DRP1 Tracker\", time() - start)\n",
    "    \n",
    "    # mtDNA Tracking\n",
    "    # start = time()\n",
    "    # data = czi_to_array(path, channels=['mtdna'])\n",
    "    # mtdna = data['mtdna']\n",
    "    # print(\"Load mtDNA\", time() - start)\n",
    "    \n",
    "    start = time()\n",
    "    # mtdna_df = tracker(cp.array(mtdna), max_distance=15, maxima_threshold_method=threshold_otsu)\n",
    "    data = CZImage(path, channel=CZImage.MTDNA)\n",
    "    mtdna_df = tracker(data, \n",
    "                       max_distance=15,\n",
    "                       look_back_n_frames=1,\n",
    "                       min_coords=80,#int(len(data) * 0.8),\n",
    "                       maxima_threshold_method=threshold_otsu)\n",
    "    print(\"mtDNA Tracker\", time() - start)\n",
    "    \n",
    "    # Mitochondria Tracking\n",
    "    # start = time()\n",
    "    # data = czi_to_array(path, channels=['mito'])\n",
    "    # mito = data['mito']\n",
    "    # print(\"Load mito\", time() - start)\n",
    "    \n",
    "    mito = CZImage(path, channel=CZImage.MITO)\n",
    "\n",
    "    start = time()\n",
    "    treshold, mean_threshold = calc_threshold_fit(mito, threshold_li)\n",
    "    maxima_treshold, mean_maxima_threshold = calc_threshold_fit(mito, threshold_otsu)\n",
    "    print(\"Thresholds\", time() - start)\n",
    "    \n",
    "    start = time()\n",
    "    # c = 64\n",
    "    # count = math.ceil(len(mito)/c)\n",
    "    # res = []\n",
    "    # for i in range(count):\n",
    "    #     res.append(skeleton_as_dataframe(video_skeleton_data(mito[i*c:min(len(mito), (i+1)*c)], treshold[i*c], maxima_treshold[i*c])))\n",
    "    #     res[i].t += i*c\n",
    "    # mito_df = pd.concat(res)\n",
    "    # mito_df.index = range(len(mito_df))\n",
    "    mito_df = skeleton_as_dataframe(video_skeleton_data(mito, treshold, maxima_treshold))\n",
    "    mito_df.to_csv(mitoskel_path, index=False)\n",
    "    print(\"Mito Skeleton\", time() - start)\n",
    "    \n",
    "    start = time()\n",
    "    drp1_df = add_mito_data(drp1_df, mito_df)\n",
    "    drp1_df.to_csv(drp1trac_path, index=False)\n",
    "    print(\"Add Mito to Drp1 Tracking\", time() - start)\n",
    "    \n",
    "    start = time()\n",
    "    mtdna_df = add_mito_data(mtdna_df, mito_df)\n",
    "    mtdna_df.to_csv(mtdnatrac_path, index=False)\n",
    "    print(\"Add Mito to mtDNA Tracking\", time() - start)\n",
    "    \n",
    "    print(\"File time\", time() - filetime)\n",
    "\n",
    "print(\"Overall\", time() - begin)"
   ]
  }
 ],
 "metadata": {
  "kernelspec": {
   "display_name": "Python 3 (ipykernel)",
   "language": "python",
   "name": "python3"
  },
  "language_info": {
   "codemirror_mode": {
    "name": "ipython",
    "version": 3
   },
   "file_extension": ".py",
   "mimetype": "text/x-python",
   "name": "python",
   "nbconvert_exporter": "python",
   "pygments_lexer": "ipython3",
   "version": "3.11.3"
  }
 },
 "nbformat": 4,
 "nbformat_minor": 5
}
